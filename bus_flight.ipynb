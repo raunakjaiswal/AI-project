{
  "nbformat": 4,
  "nbformat_minor": 0,
  "metadata": {
    "colab": {
      "name": "AI_proj1.ipynb",
      "provenance": [],
      "collapsed_sections": []
    },
    "kernelspec": {
      "name": "python3",
      "display_name": "Python 3"
    },
    "language_info": {
      "name": "python"
    },
    "accelerator": "TPU"
  },
  "cells": [
    {
      "cell_type": "markdown",
      "source": [
        "#Creating Node Class"
      ],
      "metadata": {
        "id": "iZ7RwxVcQi50"
      }
    },
    {
      "cell_type": "code",
      "source": [
        "class Node:\n",
        "        \n",
        "    def __init__(self, name, parent, g, h, f, transport):                                          # Initializing the class\n",
        "        self.name = name\n",
        "        self.parent = parent\n",
        "        self.g = g                                                                      # Distance to start node\n",
        "        self.h = h                                                                      # Distance to goal node\n",
        "        self.f = f      \n",
        "        self.transport = transport                                                                 # Total cost\n",
        "            \n",
        "    def __eq__(self, other):                                                            # Comparing two nodes\n",
        "        return self.name == other.name\n",
        "    \n",
        "    def __lt__(self, other):                                                            # Sorting nodes\n",
        "        return self.f < other.f\n",
        "    \n",
        "    def __repr__(self):                                                                 # Printing nodes\n",
        "        return ('({0},{1})'.format(self.name, self.f))\n",
        "    \n",
        "    def printNode(self):                                                                # Customized Printing of nodes\n",
        "        print(self.name, end = \" - \")\n",
        "        print(self.parent, end = \" : \")\n",
        "        print(self.g, end = \" : \")\n",
        "        print(self.h, end=\" : \")\n",
        "        print(self.f)"
      ],
      "metadata": {
        "id": "683wvrrrO6La"
      },
      "execution_count": 352,
      "outputs": []
    },
    {
      "cell_type": "markdown",
      "source": [
        "#Creating Graph Class"
      ],
      "metadata": {
        "id": "OdFH1aXNQv9h"
      }
    },
    {
      "cell_type": "code",
      "source": [
        "class Graph:\n",
        "    \n",
        "    def __init__(self, graph_dict=None, directed=True):                                 # Initialize the class\n",
        "        self.graph_dict = graph_dict or {}\n",
        "        self.directed = directed\n",
        "        if not directed:\n",
        "            self.make_undirected()\n",
        "                \n",
        "    def make_undirected(self):                                                          # Create an undirected graph by adding symmetric edges\n",
        "        for a in list(self.graph_dict.keys()):\n",
        "            for (b, dist) in self.graph_dict[a].items():\n",
        "                self.graph_dict.setdefault(b, {})[a] = dist\n",
        "                    \n",
        "    def connect(self, A, B, time=1, cost = 1 ):                                                # Add a link from A and B of given distance, and also add the inverse link if the graph is undirected\n",
        "        self.graph_dict.setdefault(A, {})[B] = [time, cost]\n",
        "        if not self.directed:\n",
        "            self.graph_dict.setdefault(B, {})[A] = [time, cost]\n",
        "               \n",
        "          \n",
        "\n",
        "    def getNode(self, city, heuristics, end,means_of_transport ,add=0):   \n",
        "                                         # Get a specific neighbour which has minimum cost\n",
        "        nodes = []\n",
        "        if city  not in self.graph_dict:\n",
        "          return nodes\n",
        "        for (b,[time, cost]) in self.graph_dict[city].items():\n",
        "            nodes.append(Node(city, b, time+cost+add, heuristics[b+'-'+end][0]+heuristics[b+'-'+end][1], time+cost+heuristics[b+'-'+end][0]+heuristics[b+'-'+end][1]+add, means_of_transport ))\n",
        "        return nodes\n",
        "   \n",
        "        \n",
        "    def printgraph(self):                                                               # Function to print each edge in the entire graph\n",
        "         for a in list(self.graph_dict.keys()):\n",
        "            for (b, dist) in self.graph_dict[a].items():\n",
        "                print (self.graph_dict.setdefault(a,{})[b], end = \" : \")\n",
        "                print(a, end = \" - \")\n",
        "                print(b)\n"
      ],
      "metadata": {
        "id": "Xngw-ehUO7u5"
      },
      "execution_count": 353,
      "outputs": []
    },
    {
      "cell_type": "code",
      "source": [
        "\n",
        "def sort_heuristic(frontier):\n",
        "  frontier = (sorted(frontier, key=lambda x: x.f))\n",
        "  return frontier\n"
      ],
      "metadata": {
        "id": "KudCAL4sSdK9"
      },
      "execution_count": 354,
      "outputs": []
    },
    {
      "cell_type": "code",
      "source": [
        "\n",
        "def backtrack(open_list, start, end):\n",
        "  map = {}\n",
        "  path = list()\n",
        "  trans = list()\n",
        "  for item in open_list:\n",
        "    map[item.parent] = [item.name, item.transport]\n",
        "  val = end\n",
        "  while(True):\n",
        "    path.append(val)\n",
        "    if(val == start):\n",
        "      break\n",
        "    trans.append(map[val][1])\n",
        "    val = map[val][0]\n",
        "    \n",
        "  path.reverse()\n",
        "  trans.reverse()\n",
        " \n",
        "  return path, trans\n",
        "\n",
        "\n",
        "\n",
        "\n",
        "\n"
      ],
      "metadata": {
        "id": "al1UsHTsvxdf"
      },
      "execution_count": 355,
      "outputs": []
    },
    {
      "cell_type": "markdown",
      "source": [
        "#Defining A_Star function"
      ],
      "metadata": {
        "id": "ZRkhZQp6Q7h1"
      }
    },
    {
      "cell_type": "code",
      "source": [
        "\n",
        "def A_Star(graph1, graph2, heuristics1,heuristics2, start, end):\n",
        "\n",
        "\n",
        "  if((end not in graph1.graph_dict) and (end not in graph2.graph_dict)):                                                    # Incase the goal state does not exist\n",
        "    print(\"\\n\\n---------------------------\\nGOAL STATE DOES NOT EXIST\\n---------------------------\\n\\n\")\n",
        "    return  None\n",
        "\n",
        "  open_list = list()\n",
        "  path = list()     \n",
        "  trans = list()        \n",
        "                                            # Will store the path we are taking\n",
        "  curr_node1 = graph1.getNode(start,heuristics1, end, 'road')  \n",
        "  curr_node2 = graph2.getNode(start, heuristics2, end, 'flight')\n",
        "\n",
        "  frontier = list()\n",
        "  frontier = curr_node1 + curr_node2\n",
        "  frontier = sort_heuristic(frontier)\n",
        "\n",
        "\n",
        "  curr_node = frontier[0]\n",
        "  visited = []\n",
        "  \n",
        "  visited.append(curr_node.name)\n",
        "\n",
        "  while(True):                                                     # Runs Until we cannot find the goal state or\n",
        "     \n",
        "\n",
        "      open_list.append(curr_node)\n",
        "\n",
        "     # path.append(curr_node.parent)\n",
        "      if(curr_node.parent==end):\n",
        "        print(\"Total cost: \", curr_node.f)\n",
        "        path, trans = backtrack(open_list, start, end)\n",
        "        break\n",
        "\n",
        "      visited.append(curr_node.parent)\n",
        "      \n",
        "\n",
        "      if(len(frontier)>0):\n",
        "        frontier.pop(0)\n",
        "\n",
        "      curr_node1 =  graph1.getNode(curr_node.parent,heuristics1, end, 'road',curr_node.g)  \n",
        "      curr_node2 = graph2.getNode(curr_node.parent, heuristics2, end, 'flight',curr_node.g)\n",
        "\n",
        "      frontier.extend(curr_node1)\n",
        "      frontier.extend(curr_node2)\n",
        "\n",
        "     \n",
        "      frontier = sort_heuristic(frontier)\n",
        " \n",
        "\n",
        "      while(len(frontier)> 0 and frontier[0].parent in visited):\n",
        "        frontier.pop(0) \n",
        "\n",
        "      if(len(frontier)): \n",
        "        curr_node  = frontier[0]\n",
        "      else:\n",
        "        break\n",
        "\n",
        "\n",
        "  return path, trans"
      ],
      "metadata": {
        "id": "g99NfrWyPD2H"
      },
      "execution_count": 356,
      "outputs": []
    },
    {
      "cell_type": "markdown",
      "source": [
        "###Creating graph for given city with time and cost for Bus tranportation\n",
        "\n",
        "---\n",
        "\n"
      ],
      "metadata": {
        "id": "BOaUQv-7RKEa"
      }
    },
    {
      "cell_type": "code",
      "source": [
        "\n",
        "# Create a graph  -- by road\n",
        "graph1 = Graph()\n",
        "\n",
        "# Create graph connections (Actual distance)\n",
        "                                   #time #cost\n",
        "graph1.connect('Ahmedabad', 'surat', 70, 50)\n",
        "graph1.connect('vadodara', 'surat',30,30)\n",
        "# graph1.connect('Rajkot', 'surat',30,30)\n",
        "graph1.connect('vadodara', 'patna',10,10)\n",
        "graph1.connect('Ahmedabad', 'vadodara', 40,40)\n",
        "graph1.connect('vadodara', 'Rajkot', 100,60)\n",
        "graph1. make_undirected()\n",
        "    \n"
      ],
      "metadata": {
        "id": "iT577FgaQBPa"
      },
      "execution_count": 357,
      "outputs": []
    },
    {
      "cell_type": "markdown",
      "source": [
        "###Creating graph for given city with time and cost for flight tranportation\n"
      ],
      "metadata": {
        "id": "79lG7yi73v57"
      }
    },
    {
      "cell_type": "code",
      "source": [
        "# Create a graph -- by flight\n",
        "graph2 = Graph()\n",
        "    \n",
        "# Create graph connections (Actual distance)\n",
        "                                   #time #cost\n",
        "graph2.connect('Ahmedabad', 'surat',10 , 500)\n",
        "graph2.connect('Ahmedabad', 'Rajkot', 15,400)\n",
        "graph2. make_undirected()\n",
        "    \n"
      ],
      "metadata": {
        "id": "5_vr5XzZjmqt"
      },
      "execution_count": 358,
      "outputs": []
    },
    {
      "cell_type": "markdown",
      "source": [
        "##Heuristic Data1 (Bus Travel distance)"
      ],
      "metadata": {
        "id": "jBOMG_g_RWgi"
      }
    },
    {
      "cell_type": "code",
      "source": [
        "# Make graph undirected, create symmetric connections\n",
        "# graph.make_undirected()\n",
        "    \n",
        "# Create heuristics (straight-line distance, air-travel distance) for Destination Navsari\n",
        "heuristics1 = {}\n",
        "heuristics1['Ahmedabad-surat'] = [1, 1 ]\n",
        "heuristics1['Ahmedabad-Ahmedabad'] = [0,0 ]\n",
        "heuristics1['Ahmedabad-vadodara'] = [1, 1 ]\n",
        "heuristics1['Ahmedabad-Rajkot'] = [1, 1 ]\n",
        "heuristics1['Ahmedabad-patna'] = [1, 1 ]\n",
        "heuristics1['Rajkot-Rajkot'] = [0, 0 ]\n",
        "heuristics1['Rajkot-Ahmedabad'] = [1, 1 ]\n",
        "heuristics1['Rajkot-vadodara'] = [1, 1 ]\n",
        "heuristics1['Rajkot-surat'] = [1, 1 ]\n",
        "heuristics1['Rajkot-patna'] = [1, 1 ]\n",
        "\n",
        "heuristics1['vadodara-surat'] = [1, 1 ]\n",
        "heuristics1['vadodara-Ahmedabad'] = [1, 1 ]\n",
        "heuristics1['vadodara-Rajkot'] = [1, 1 ]\n",
        "heuristics1['vadodara-vadodara'] = [0, 0 ]\n",
        "heuristics1['vadodara-patna'] = [0, 0 ]\n",
        "heuristics1['surat-vadodara'] = [1, 1 ]\n",
        "heuristics1['surat-Rajkot'] = [1, 1]\n",
        "heuristics1['surat-Ahmedabad'] = [1, 1 ]\n",
        "heuristics1['surat-surat'] = [0, 0 ]\n",
        "heuristics1['surat-patna'] = [0, 0 ]\n",
        "\n",
        "\n",
        "heuristics1['patna-patna'] = [0, 0 ]\n",
        "heuristics1['patna-Ahmedabad'] = [0, 0 ]\n",
        "heuristics1['patna-vadodara'] = [0, 0 ]\n",
        "heuristics1['patna-Rajkot'] = [0, 0 ]\n",
        "heuristics1['patna-surat'] = [0, 0 ]\n",
        "# print(heuristics1)"
      ],
      "metadata": {
        "id": "z9e2W56qQLXz"
      },
      "execution_count": 359,
      "outputs": []
    },
    {
      "cell_type": "markdown",
      "source": [
        "##Heuristic Data2 (Flight Travel distance)"
      ],
      "metadata": {
        "id": "mM5V8SF7RksX"
      }
    },
    {
      "cell_type": "code",
      "source": [
        "# Create heuristics (distance, train distance) for Destination Navsari\n",
        "heuristics2= {}\n",
        "\n",
        "heuristics2['Ahmedabad-surat'] = [1, 1]\n",
        "heuristics2['Ahmedabad-Ahmedabad'] = [0,0 ]\n",
        "heuristics2['Ahmedabad-vadodara'] = [1, 1 ]\n",
        "heuristics2['Ahmedabad-Rajkot'] = [1, 1 ]\n",
        "heuristics2['Rajkot-Rajkot'] = [0, 0 ]\n",
        "heuristics2['Rajkot-Ahmedabad'] = [1, 1 ]\n",
        "heuristics2['Rajkot-vadodara'] = [1, 1]\n",
        "heuristics2['Rajkot-surat'] = [1, 1 ]\n",
        "heuristics2['vadodara-surat'] = [1, 1 ]\n",
        "heuristics2['vadodara-Ahmedabad'] = [1, 1 ]\n",
        "heuristics2['vadodara-Rajkot'] = [1, 1]\n",
        "heuristics2['vadodara-vadodara'] = [0, 0 ]\n",
        "heuristics2['surat-vadodara'] = [1, 1]\n",
        "heuristics2['surat-Rajkot'] = [1, 1 ]\n",
        "heuristics2['surat-Ahmedabad'] = [1, 1]\n",
        "heuristics2['surat-surat'] = [0, 0 ]\n",
        "heuristics2['Rajkot-patna'] = [1, 1 ]\n",
        "heuristics2['vadodara-patna'] = [0, 0 ]\n",
        "heuristics2['surat-patna'] = [0, 0 ]\n",
        "heuristics2['Ahmedabad-patna'] = [1, 1 ]\n",
        "heuristics2['patna-patna'] = [0, 0 ]\n",
        "heuristics2['patna-Ahmedabad'] = [0, 0 ]\n",
        "heuristics2['patna-vadodara'] = [0, 0 ]\n",
        "heuristics2['patna-Rajkot'] = [0, 0 ]\n",
        "heuristics2['patna-surat'] = [0, 0 ]"
      ],
      "metadata": {
        "id": "gaws3uQrQQ40"
      },
      "execution_count": 360,
      "outputs": []
    },
    {
      "cell_type": "markdown",
      "source": [
        "###Calculating the throught both air and train distances"
      ],
      "metadata": {
        "id": "gn5tUu_1RxYF"
      }
    },
    {
      "cell_type": "code",
      "source": [
        "\n",
        "\n",
        "# Run search algorithm\n",
        "\n",
        "start = 'Ahmedabad'\n",
        "Goal  = 'Rajkot'\n",
        "\n",
        "path, trans = A_Star(graph1, graph2 ,heuristics1,heuristics2 ,start,Goal)        \n",
        "\n",
        "\n",
        "for index in range(len(path)-1):\n",
        "  print(path[index], end='') \n",
        "  print(' ---', trans[index], '---> ', end='')\n",
        "\n",
        "print(path[len(path)-1])\n",
        "\n",
        "    \n"
      ],
      "metadata": {
        "colab": {
          "base_uri": "https://localhost:8080/"
        },
        "id": "roLCLZ_IQZJO",
        "outputId": "fb1bd0e7-8068-41c0-f3f6-91c8fea139ac"
      },
      "execution_count": 361,
      "outputs": [
        {
          "output_type": "stream",
          "name": "stdout",
          "text": [
            "Total cost:  240\n",
            "Ahmedabad --- road ---> vadodara --- road ---> Rajkot\n"
          ]
        }
      ]
    },
    {
      "cell_type": "code",
      "source": [
        ""
      ],
      "metadata": {
        "id": "Zf5G1Aj8JfQK"
      },
      "execution_count": 361,
      "outputs": []
    }
  ]
}