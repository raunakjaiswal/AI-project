{
  "nbformat": 4,
  "nbformat_minor": 0,
  "metadata": {
    "colab": {
      "name": "bus_flight_AI.ipynb",
      "provenance": [],
      "collapsed_sections": []
    },
    "kernelspec": {
      "name": "python3",
      "display_name": "Python 3"
    },
    "language_info": {
      "name": "python"
    },
    "accelerator": "TPU"
  },
  "cells": [
    {
      "cell_type": "markdown",
      "source": [
        "**Considering 2 means tranport (bus and Flight)**\n",
        "\n",
        "  **Finding best optimal path considering using A* Algo:**\n",
        "\n",
        " **1) Both cost + time**\n",
        "\n",
        " **2) only time**\n",
        "\n",
        " **3) only cost**"
      ],
      "metadata": {
        "id": "784p4Odj7nqx"
      }
    },
    {
      "cell_type": "markdown",
      "source": [
        "##Creating Node Class"
      ],
      "metadata": {
        "id": "iZ7RwxVcQi50"
      }
    },
    {
      "cell_type": "code",
      "source": [
        "class Node:\n",
        "        \n",
        "    def __init__(self, name, parent, g, h, f, transport):                                          # Initializing the class\n",
        "        self.name = name\n",
        "        self.parent = parent\n",
        "        self.g = g                                                                      # Distance to start node\n",
        "        self.h = h                                                                      # Distance to goal node\n",
        "        self.f = f      \n",
        "        self.transport = transport                                                            \n",
        "            \n",
        "   \n",
        "    \n",
        "    def printNode(self):                                                                # Customized Printing of nodes\n",
        "        print(self.name, end = \" - \")\n",
        "        print(self.parent, end = \" : \")\n",
        "        print(self.g, end = \" : \")\n",
        "        print(self.h, end=\" : \")\n",
        "        print(self.f)"
      ],
      "metadata": {
        "id": "683wvrrrO6La"
      },
      "execution_count": 208,
      "outputs": []
    },
    {
      "cell_type": "markdown",
      "source": [
        "##Creating Graph Class"
      ],
      "metadata": {
        "id": "OdFH1aXNQv9h"
      }
    },
    {
      "cell_type": "code",
      "source": [
        "class Graph:\n",
        "    \n",
        "    def __init__(self, graph_dict=None, directed=True):                                 # Initialize the class\n",
        "        self.graph_dict = graph_dict or {}\n",
        "        self.directed = directed\n",
        "        if not directed:\n",
        "            self.make_undirected()\n",
        "                \n",
        "    def make_undirected(self):                                                          # Create an undirected graph by adding symmetric edges\n",
        "        for a in list(self.graph_dict.keys()):\n",
        "            for (b, dist) in self.graph_dict[a].items():\n",
        "                self.graph_dict.setdefault(b, {})[a] = dist\n",
        "                    \n",
        "    def connect(self, A, B, time=1, cost = 1 ):                                                # Add a link from A and B of given distance, and also add the inverse link if the graph is undirected\n",
        "        self.graph_dict.setdefault(A, {})[B] = [time, cost]\n",
        "        if not self.directed:\n",
        "            self.graph_dict.setdefault(B, {})[A] = [time, cost]\n",
        "               \n",
        "          \n",
        "\n",
        "    def getNode(self, city, heuristics, end,means_of_transport ,add=0, cost_time = 0):   \n",
        "                                         # Get a specific neighbour which has minimum cost\n",
        "        nodes = []\n",
        "        if city  not in self.graph_dict:\n",
        "          return nodes\n",
        "        if(cost_time==0):\n",
        "         for (b,[time, cost]) in self.graph_dict[city].items():\n",
        "            nodes.append(Node(city, b, time+cost+add, heuristics[b+'-'+end][0]+heuristics[b+'-'+end][1], time+cost+heuristics[b+'-'+end][0]+heuristics[b+'-'+end][1]+add, means_of_transport ))\n",
        "        \n",
        "        elif(cost_time==1):\n",
        "         for (b,[time, cost]) in self.graph_dict[city].items():\n",
        "            nodes.append(Node(city, b, cost+add, heuristics[b+'-'+end][1], cost+heuristics[b+'-'+end][1]+add, means_of_transport ))\n",
        "        else:\n",
        "          for (b,[time, cost]) in self.graph_dict[city].items():\n",
        "            nodes.append(Node(city, b, time+add, heuristics[b+'-'+end][0], time+heuristics[b+'-'+end][0]+add, means_of_transport ))\n",
        "\n",
        "        return nodes\n",
        "\n",
        "    def give_time_cost(self,city1, city2):\n",
        "      return self.graph_dict[city1][city2]\n",
        "   \n",
        "        \n",
        "    def printgraph(self):                                                               # Function to print each edge in the entire graph\n",
        "         for a in list(self.graph_dict.keys()):\n",
        "            for (b, dist) in self.graph_dict[a].items():\n",
        "                print (self.graph_dict.setdefault(a,{})[b], end = \" : \")\n",
        "                print(a, end = \" - \")\n",
        "                print(b)\n"
      ],
      "metadata": {
        "id": "Xngw-ehUO7u5"
      },
      "execution_count": 209,
      "outputs": []
    },
    {
      "cell_type": "markdown",
      "source": [
        "## function to sort frontier"
      ],
      "metadata": {
        "id": "0IvQSCyb154p"
      }
    },
    {
      "cell_type": "code",
      "source": [
        "\n",
        "def sort_heuristic(frontier):\n",
        "  frontier = (sorted(frontier, key=lambda x: x.f))\n",
        "  return frontier\n"
      ],
      "metadata": {
        "id": "KudCAL4sSdK9"
      },
      "execution_count": 210,
      "outputs": []
    },
    {
      "cell_type": "markdown",
      "source": [
        "## function to backtrack to get path in order"
      ],
      "metadata": {
        "id": "BjCJJszf12t6"
      }
    },
    {
      "cell_type": "code",
      "source": [
        "\n",
        "def backtrack(open_list, start, end):\n",
        "  map = {}\n",
        "  path = list()\n",
        "  trans = list()\n",
        "  for item in open_list:\n",
        "    map[item.parent] = [item.name, item.transport]\n",
        "  val = end\n",
        "  while(True):\n",
        "    path.append(val)\n",
        "    if(val == start):\n",
        "      break\n",
        "    trans.append(map[val][1])\n",
        "    val = map[val][0]\n",
        "    \n",
        "  path.reverse()\n",
        "  trans.reverse()\n",
        " \n",
        "  return path, trans\n",
        "\n",
        "\n",
        "\n",
        "\n",
        "\n"
      ],
      "metadata": {
        "id": "al1UsHTsvxdf"
      },
      "execution_count": 211,
      "outputs": []
    },
    {
      "cell_type": "markdown",
      "source": [
        "## A_Star function"
      ],
      "metadata": {
        "id": "ZRkhZQp6Q7h1"
      }
    },
    {
      "cell_type": "code",
      "source": [
        "\n",
        "def A_Star(graph1, graph2, heuristics1,heuristics2, start, end, cost_time=0):\n",
        "\n",
        "\n",
        "  if((end not in graph1.graph_dict) and (end not in graph2.graph_dict)):                                                    # Incase the goal state does not exist\n",
        "    print(\"\\n\\n---------------------------\\nGOAL STATE DOES NOT EXIST\\n---------------------------\\n\\n\")\n",
        "    return  None\n",
        "\n",
        "  open_list = list()\n",
        "  path = list()     \n",
        "  trans = list()        \n",
        "                                            # Will store the path we are taking\n",
        "  curr_node1 = graph1.getNode(start,heuristics1, end, 'bus', 0,cost_time)  \n",
        "  curr_node2 = graph2.getNode(start, heuristics2, end, 'flight', 0,cost_time)\n",
        "\n",
        "  frontier = list()\n",
        "  frontier = curr_node1 + curr_node2\n",
        "  frontier = sort_heuristic(frontier)\n",
        "\n",
        "\n",
        "  curr_node = frontier[0]\n",
        "  visited = []\n",
        "  \n",
        "  visited.append(curr_node.name)\n",
        "\n",
        "  while(True):                                                     # Runs Until we cannot find the goal state or\n",
        "     \n",
        "\n",
        "      open_list.append(curr_node)\n",
        "\n",
        "     # path.append(curr_node.parent)\n",
        "      if(curr_node.parent==end):\n",
        "        path, trans = backtrack(open_list, start, end)\n",
        "        break\n",
        "\n",
        "      visited.append(curr_node.parent)\n",
        "      \n",
        "\n",
        "      if(len(frontier)>0):\n",
        "        frontier.pop(0)\n",
        "\n",
        "      curr_node1 =  graph1.getNode(curr_node.parent,heuristics1, end, 'bus',curr_node.g,cost_time)  \n",
        "      curr_node2 = graph2.getNode(curr_node.parent, heuristics2, end, 'flight',curr_node.g, cost_time)\n",
        "\n",
        "      frontier.extend(curr_node1)\n",
        "      frontier.extend(curr_node2)\n",
        "\n",
        "     \n",
        "      frontier = sort_heuristic(frontier)\n",
        " \n",
        "\n",
        "      while(len(frontier)> 0 and frontier[0].parent in visited):\n",
        "        frontier.pop(0) \n",
        "\n",
        "      if(len(frontier)): \n",
        "        curr_node  = frontier[0]\n",
        "      else:\n",
        "        break\n",
        "\n",
        "\n",
        "  return path, trans"
      ],
      "metadata": {
        "id": "g99NfrWyPD2H"
      },
      "execution_count": 212,
      "outputs": []
    },
    {
      "cell_type": "markdown",
      "source": [
        "## Haversine distance"
      ],
      "metadata": {
        "id": "GmzBtMxJ1y21"
      }
    },
    {
      "cell_type": "code",
      "source": [
        "import math\n",
        "\n",
        "def getDistanceFromLatLonInKm(lat1,lon1,lat2,lon2):\n",
        "  R = 6371 # Radius of the earth in km\n",
        "  dLat = deg2rad(lat2-lat1)  # deg2rad below\n",
        "  dLon = deg2rad(lon2-lon1)\n",
        "  a = math.sin(dLat/2) * math.sin(dLat/2) + math.cos(deg2rad(lat1)) * math.cos(deg2rad(lat2)) * math.sin(dLon/2) * math.sin(dLon/2) \n",
        "  c = 2 * math.atan2(math.sqrt(a), math.sqrt(1-a))\n",
        "  d = R * c # Distance in km\n",
        "  return d\n",
        "\n",
        "\n",
        "def deg2rad(deg): \n",
        "  return deg * (math.pi/180)\n"
      ],
      "metadata": {
        "id": "lOa582eKMwUz"
      },
      "execution_count": 213,
      "outputs": []
    },
    {
      "cell_type": "markdown",
      "source": [
        "## defining city latitute , longitude co-ordinaates"
      ],
      "metadata": {
        "id": "cd1EHaFS1vfe"
      }
    },
    {
      "cell_type": "code",
      "source": [
        "lat_long = {}\n",
        "lat_long['Ahmedabad'] = (23.0225,72.5714)\n",
        "lat_long['Delhi'] = (28.7041,77.1025)\n",
        "lat_long['Patna'] =  (25.5941,85.1376)\n",
        "lat_long['Agra'] = (27.1767,78.0081)\n"
      ],
      "metadata": {
        "id": "a_x_I-zSUnf2"
      },
      "execution_count": 214,
      "outputs": []
    },
    {
      "cell_type": "markdown",
      "source": [
        "## list of availaible bus between cities"
      ],
      "metadata": {
        "id": "lw3oO-qW1stD"
      }
    },
    {
      "cell_type": "code",
      "source": [
        "bus_list  = []\n",
        "bus_cost1km  = 10\n",
        "bus_time1km = 5\n",
        "bus_list.append(['Ahmedabad', 'Delhi'])\n",
        "bus_list.append(['Ahmedabad', 'Agra'])\n",
        "print(bus_list)"
      ],
      "metadata": {
        "colab": {
          "base_uri": "https://localhost:8080/"
        },
        "id": "XGmMuAg4Vshd",
        "outputId": "d2998648-9cad-44d8-e7f0-08e56c429039"
      },
      "execution_count": 215,
      "outputs": [
        {
          "output_type": "stream",
          "name": "stdout",
          "text": [
            "[['Ahmedabad', 'Delhi'], ['Ahmedabad', 'Agra']]\n"
          ]
        }
      ]
    },
    {
      "cell_type": "markdown",
      "source": [
        ""
      ],
      "metadata": {
        "id": "Jl98C2Wu7mkI"
      }
    },
    {
      "cell_type": "markdown",
      "source": [
        "###Creating graph for given city with time and cost for Bus tranportation\n",
        "\n",
        "---\n",
        "\n"
      ],
      "metadata": {
        "id": "BOaUQv-7RKEa"
      }
    },
    {
      "cell_type": "code",
      "source": [
        "\n",
        "graph1 = Graph()"
      ],
      "metadata": {
        "id": "iT577FgaQBPa"
      },
      "execution_count": 216,
      "outputs": []
    },
    {
      "cell_type": "code",
      "source": [
        "for listt in bus_list:\n",
        "  city1  = listt[0]\n",
        "  city2 =  listt[1]\n",
        "  lat1 = lat_long[city1][0]\n",
        "  long1= lat_long[city1][1]\n",
        "  lat2 = lat_long[city2][0]\n",
        "  long2 = lat_long[city2][1]\n",
        "  dist = getDistanceFromLatLonInKm(lat1, long1, lat2, long2)\n",
        "  graph1.connect(city1, city2, (dist*bus_time1km), (dist*bus_cost1km))\n",
        "  # print(dist)\n",
        "  \n",
        "graph1. make_undirected()"
      ],
      "metadata": {
        "id": "JtoSg9cxWV4K"
      },
      "execution_count": 217,
      "outputs": []
    },
    {
      "cell_type": "markdown",
      "source": [
        "## list of availaible flights between cities"
      ],
      "metadata": {
        "id": "snY02MhN1oTh"
      }
    },
    {
      "cell_type": "code",
      "source": [
        "flight_list  = []\n",
        " \n",
        "flight_cost1km  = 20\n",
        "flight_time1km = 0.5\n",
        "flight_list.append(['Ahmedabad', 'Patna'])\n",
        "flight_list.append(['Delhi', 'Patna'])\n",
        "print(flight_list)"
      ],
      "metadata": {
        "colab": {
          "base_uri": "https://localhost:8080/"
        },
        "id": "w_8fvdpGcA62",
        "outputId": "bb8af8c2-a6ea-45d2-b905-4e2a6a65f735"
      },
      "execution_count": 218,
      "outputs": [
        {
          "output_type": "stream",
          "name": "stdout",
          "text": [
            "[['Ahmedabad', 'Patna'], ['Delhi', 'Patna']]\n"
          ]
        }
      ]
    },
    {
      "cell_type": "markdown",
      "source": [
        "## Creating graph for given city with time and cost for flight tranportation"
      ],
      "metadata": {
        "id": "uTCIOYho1gmi"
      }
    },
    {
      "cell_type": "code",
      "source": [
        "# Create a graph -- by flight\n",
        "graph2 = Graph()\n",
        "    "
      ],
      "metadata": {
        "id": "5_vr5XzZjmqt"
      },
      "execution_count": 219,
      "outputs": []
    },
    {
      "cell_type": "code",
      "source": [
        "for listt in flight_list:\n",
        "  city1  = listt[0]\n",
        "  city2 =  listt[1]\n",
        "  lat1 = lat_long[city1][0]\n",
        "  long1= lat_long[city1][1]\n",
        "  lat2 = lat_long[city2][0]\n",
        "  long2 = lat_long[city2][1]\n",
        "  dist = getDistanceFromLatLonInKm(lat1, long1, lat2, long2)\n",
        "  graph2.connect(city1, city2, (dist*flight_time1km), (dist*flight_cost1km))\n",
        "  # print(dist)\n",
        "\n",
        "graph2. make_undirected()\n"
      ],
      "metadata": {
        "id": "bPrZ_ylecbvL"
      },
      "execution_count": 220,
      "outputs": []
    },
    {
      "cell_type": "markdown",
      "source": [
        "## Heuristic Data1 (for Bus [time, cost])"
      ],
      "metadata": {
        "id": "jBOMG_g_RWgi"
      }
    },
    {
      "cell_type": "code",
      "source": [
        "\n",
        "heuristics1 = {}\n",
        "for city1 in lat_long:\n",
        "  for city2 in lat_long:\n",
        "    lat1 = lat_long[city1][0]\n",
        "    long1= lat_long[city1][1]\n",
        "    lat2 = lat_long[city2][0]\n",
        "    long2 = lat_long[city2][1]\n",
        "    dist = getDistanceFromLatLonInKm(lat1, long1, lat2, long2)\n",
        "    heuristics1[city1+'-'+city2]=[(dist*bus_time1km), (dist*bus_cost1km)]\n",
        "\n",
        "print(heuristics1)\n"
      ],
      "metadata": {
        "id": "z9e2W56qQLXz",
        "colab": {
          "base_uri": "https://localhost:8080/"
        },
        "outputId": "156fe50f-ef18-40ef-a828-e040e93cf9c4"
      },
      "execution_count": 221,
      "outputs": [
        {
          "output_type": "stream",
          "name": "stdout",
          "text": [
            "{'Ahmedabad-Ahmedabad': [0.0, 0.0], 'Ahmedabad-Delhi': [3887.0414037348287, 7774.082807469657], 'Ahmedabad-Patna': [6522.683933386996, 13045.367866773991], 'Ahmedabad-Agra': [3580.562392045786, 7161.124784091572], 'Delhi-Ahmedabad': [3887.0414037348287, 7774.082807469657], 'Delhi-Delhi': [0.0, 0.0], 'Delhi-Patna': [4333.462681413019, 8666.925362826038], 'Delhi-Agra': [958.6235471259822, 1917.2470942519644], 'Patna-Ahmedabad': [6522.683933386996, 13045.367866773991], 'Patna-Delhi': [4333.462681413019, 8666.925362826038], 'Patna-Patna': [0.0, 0.0], 'Patna-Agra': [3657.650732408598, 7315.301464817196], 'Agra-Ahmedabad': [3580.562392045786, 7161.124784091572], 'Agra-Delhi': [958.6235471259822, 1917.2470942519644], 'Agra-Patna': [3657.650732408598, 7315.301464817196], 'Agra-Agra': [0.0, 0.0]}\n"
          ]
        }
      ]
    },
    {
      "cell_type": "markdown",
      "source": [
        "### Heuristic Data2 (for Flight [time, cost])"
      ],
      "metadata": {
        "id": "mM5V8SF7RksX"
      }
    },
    {
      "cell_type": "code",
      "source": [
        "\n",
        "heuristics2= {}\n",
        "for city1 in lat_long:\n",
        "  for city2 in lat_long:\n",
        "    lat1 = lat_long[city1][0]\n",
        "    long1= lat_long[city1][1]\n",
        "    lat2 = lat_long[city2][0]\n",
        "    long2 = lat_long[city2][1]\n",
        "    dist = getDistanceFromLatLonInKm(lat1, long1, lat2, long2)\n",
        "    heuristics2[city1+'-'+city2]=[(dist*flight_time1km), (dist*flight_cost1km)]\n",
        "\n",
        "print(heuristics2)\n"
      ],
      "metadata": {
        "id": "gaws3uQrQQ40",
        "colab": {
          "base_uri": "https://localhost:8080/"
        },
        "outputId": "fe5915b0-29c1-4f2a-f383-326eeb21a9cc"
      },
      "execution_count": 222,
      "outputs": [
        {
          "output_type": "stream",
          "name": "stdout",
          "text": [
            "{'Ahmedabad-Ahmedabad': [0.0, 0.0], 'Ahmedabad-Delhi': [388.70414037348286, 15548.165614939315], 'Ahmedabad-Patna': [652.2683933386995, 26090.735733547983], 'Ahmedabad-Agra': [358.0562392045786, 14322.249568183144], 'Delhi-Ahmedabad': [388.70414037348286, 15548.165614939315], 'Delhi-Delhi': [0.0, 0.0], 'Delhi-Patna': [433.34626814130183, 17333.850725652075], 'Delhi-Agra': [95.86235471259822, 3834.494188503929], 'Patna-Ahmedabad': [652.2683933386995, 26090.735733547983], 'Patna-Delhi': [433.34626814130183, 17333.850725652075], 'Patna-Patna': [0.0, 0.0], 'Patna-Agra': [365.7650732408598, 14630.602929634391], 'Agra-Ahmedabad': [358.0562392045786, 14322.249568183144], 'Agra-Delhi': [95.86235471259822, 3834.494188503929], 'Agra-Patna': [365.7650732408598, 14630.602929634391], 'Agra-Agra': [0.0, 0.0]}\n"
          ]
        }
      ]
    },
    {
      "cell_type": "markdown",
      "source": [
        "###Calculating the throught both air and bus distances considering both efficient(cost+ time)"
      ],
      "metadata": {
        "id": "gn5tUu_1RxYF"
      }
    },
    {
      "cell_type": "code",
      "source": [
        "\n",
        "\n",
        "# Run search algorithm\n",
        "\n",
        "start = 'Ahmedabad'\n",
        "Goal  = 'Patna'\n",
        "\n",
        "path, trans = A_Star(graph1, graph2 ,heuristics1,heuristics2 ,start,Goal,0)        \n",
        "\n",
        "\n",
        "\n",
        "total_price = 0\n",
        "total_time = 0\n",
        "for index in range(len(path)-1):\n",
        "  city1 = path[index]\n",
        "  city2 = path[index+1]\n",
        "  print(path[index], end='')\n",
        "  if(trans[index]=='bus'):\n",
        "    values = graph1.give_time_cost(city1, city2)\n",
        "    total_time = total_time + values[0]\n",
        "    total_price = total_price + values[1]\n",
        "    print(' ---', trans[index],'(',values[0], ',',values[1],')','---> ', end='')\n",
        "  else:\n",
        "    values = graph2.give_time_cost(city1, city2)\n",
        "    total_time = total_time + values[0]\n",
        "    total_price = total_price + values[1]\n",
        "    print(' ---', trans[index],'(',values[0],',',values[1] ,')','---> ', end='')\n",
        "\n",
        "print(path[len(path)-1])\n",
        "\n",
        "print(\"Total price: \",total_price)\n",
        "print(\"Total time: \", total_time)\n",
        "    \n"
      ],
      "metadata": {
        "colab": {
          "base_uri": "https://localhost:8080/"
        },
        "id": "roLCLZ_IQZJO",
        "outputId": "23496e5c-b09a-4d3f-d57a-36bac827363d"
      },
      "execution_count": 223,
      "outputs": [
        {
          "output_type": "stream",
          "name": "stdout",
          "text": [
            "Ahmedabad --- flight ( 652.2683933386995 , 26090.735733547983 ) ---> Patna\n",
            "Total price:  26090.735733547983\n",
            "Total time:  652.2683933386995\n"
          ]
        }
      ]
    },
    {
      "cell_type": "markdown",
      "source": [
        "###Calculating the throught both air and bus distances considering only efficient(time)"
      ],
      "metadata": {
        "id": "8o2B-NUx2L09"
      }
    },
    {
      "cell_type": "code",
      "source": [
        "# Run search algorithm\n",
        "\n",
        "#best time\n",
        "start = 'Ahmedabad'\n",
        "Goal  = 'Patna'\n",
        "\n",
        "path, trans = A_Star(graph1, graph2 ,heuristics1,heuristics2 ,start,Goal, 2)        \n",
        "\n",
        "total_price = 0\n",
        "total_time = 0\n",
        "for index in range(len(path)-1):\n",
        "  city1 = path[index]\n",
        "  city2 = path[index+1]\n",
        "  print(path[index], end='')\n",
        "  if(trans[index]=='bus'):\n",
        "    values = graph1.give_time_cost(city1, city2)\n",
        "    total_time = total_time + values[0]\n",
        "    total_price = total_price + values[1]\n",
        "    print(' ---', trans[index],'(',values[0], ',',values[1],')','---> ', end='')\n",
        "  else:\n",
        "    values = graph2.give_time_cost(city1, city2)\n",
        "    total_time = total_time + values[0]\n",
        "    total_price = total_price + values[1]\n",
        "    print(' ---', trans[index],'(',values[0],',',values[1] ,')','---> ', end='')\n",
        "\n",
        "print(path[len(path)-1])\n",
        "\n",
        "print(\"Total price: \",total_price)\n",
        "print(\"Total time: \", total_time)\n",
        "    "
      ],
      "metadata": {
        "id": "Zf5G1Aj8JfQK",
        "colab": {
          "base_uri": "https://localhost:8080/"
        },
        "outputId": "4bed10f0-7df8-4d18-b9e0-4b16ed9763a2"
      },
      "execution_count": 224,
      "outputs": [
        {
          "output_type": "stream",
          "name": "stdout",
          "text": [
            "Ahmedabad --- flight ( 652.2683933386995 , 26090.735733547983 ) ---> Patna\n",
            "Total price:  26090.735733547983\n",
            "Total time:  652.2683933386995\n"
          ]
        }
      ]
    },
    {
      "cell_type": "markdown",
      "source": [
        "###Calculating the throught both air and bus distances considering only efficient (cost)"
      ],
      "metadata": {
        "id": "i3AvN10k2SEp"
      }
    },
    {
      "cell_type": "code",
      "source": [
        "# Run search algorithm\n",
        "\n",
        "start = 'Ahmedabad'\n",
        "Goal  = 'Patna'\n",
        "\n",
        "path, trans = A_Star(graph1, graph2 ,heuristics1,heuristics2 ,start,Goal, 1)        \n",
        "\n",
        "total_price = 0\n",
        "total_time = 0\n",
        "for index in range(len(path)-1):\n",
        "  city1 = path[index]\n",
        "  city2 = path[index+1]\n",
        "  print(path[index], end='')\n",
        "  if(trans[index]=='bus'):\n",
        "    values = graph1.give_time_cost(city1, city2)\n",
        "    total_time = total_time + values[0]\n",
        "    total_price = total_price + values[1]\n",
        "    print(' ---', trans[index],'(',values[0], ',',values[1],')','---> ', end='')\n",
        "  else:\n",
        "    values = graph2.give_time_cost(city1, city2)\n",
        "    total_time = total_time + values[0]\n",
        "    total_price = total_price + values[1]\n",
        "    print(' ---', trans[index],'(',values[0],',',values[1] ,')','---> ', end='')\n",
        "\n",
        "print(path[len(path)-1])\n",
        "\n",
        "print(\"Total price: \",total_price)\n",
        "print(\"Total time: \", total_time)\n",
        "    "
      ],
      "metadata": {
        "colab": {
          "base_uri": "https://localhost:8080/"
        },
        "id": "-1KBt_wen-ot",
        "outputId": "c0efc750-1497-438c-e518-6d6bfa6c4da3"
      },
      "execution_count": 225,
      "outputs": [
        {
          "output_type": "stream",
          "name": "stdout",
          "text": [
            "Ahmedabad --- bus ( 3887.0414037348287 , 7774.082807469657 ) ---> Delhi --- flight ( 433.34626814130183 , 17333.850725652075 ) ---> Patna\n",
            "Total price:  25107.933533121733\n",
            "Total time:  4320.38767187613\n"
          ]
        }
      ]
    },
    {
      "cell_type": "code",
      "source": [
        ""
      ],
      "metadata": {
        "id": "-MKIJaPXoQ-G"
      },
      "execution_count": 225,
      "outputs": []
    }
  ]
}